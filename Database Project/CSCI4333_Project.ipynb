{
  "cells": [
    {
      "cell_type": "markdown",
      "metadata": {
        "id": "9Okg7npFGFrY"
      },
      "source": [
        "Task 1:\n",
        "Here I am cleaning the orignal data and making a new csv to play with"
      ]
    },
    {
      "cell_type": "code",
      "execution_count": 1,
      "metadata": {
        "id": "slY7QLlNuptl"
      },
      "outputs": [],
      "source": [
        "# Libraries imported to build queries\n",
        "import pandas as pd\n",
        "import sqlite3\n",
        "from sqlalchemy import create_engine\n",
        "\n",
        "#Establish a coonnection with a database\n",
        "con = sqlite3.connect('original_db.db')\n",
        "# Creates a object to retrieve resultss\n",
        "cur = con.cursor()\n",
        "\n",
        "# Read the first line of the CSV file to extract the header\n",
        "with open('no_town.csv', 'r') as file:\n",
        "    header_line = file.readline().strip()\n",
        "\n",
        "# Remove quotes from the header\n",
        "header_line = header_line.replace(\"'\", \"\")\n",
        "\n",
        "# Read the CSV file into a DataFrame, specifying the modified header\n",
        "df = pd.read_csv('no_town.csv', delimiter=',', header=None, skiprows=1)\n",
        "\n",
        "# Set the modified header to the DataFrame\n",
        "df.columns = header_line.split(',')\n",
        "\n",
        "# Remove quotes from all words in the DataFrame\n",
        "df = df.applymap(lambda x: x.replace(\"'\", \"\") if isinstance(x, str) else x)\n",
        "\n",
        "# Change the second occurance of name\n",
        "columns = df.columns.tolist()\n",
        "seen = set()\n",
        "for i, col in enumerate(columns):\n",
        "    if col in seen:\n",
        "        columns[i] = 'title'\n",
        "    seen.add(col)\n",
        "df.columns = columns\n",
        "df.columns = [col.strip(' ') for col in df.columns]\n",
        "\n",
        "# Save the cleaned DataFrame back to a CSV file\n",
        "df.to_csv('cleaned_csv_file.csv', index=False)\n"
      ]
    },
    {
      "cell_type": "markdown",
      "metadata": {
        "id": "wW7yjC8fIcCQ"
      },
      "source": [
        "Task 2"
      ]
    },
    {
      "cell_type": "code",
      "execution_count": 2,
      "metadata": {
        "colab": {
          "base_uri": "https://localhost:8080/"
        },
        "id": "doO3RrVEITtN",
        "outputId": "b37e403f-209a-41b6-b990-a06f677a85bf"
      },
      "outputs": [
        {
          "data": {
            "text/plain": [
              "<sqlite3.Cursor at 0x79dd0fb47040>"
            ]
          },
          "execution_count": 2,
          "metadata": {},
          "output_type": "execute_result"
        }
      ],
      "source": [
        "# Table for Musicians\n",
        "cur.execute(\"\"\"\n",
        "  CREATE TABLE IF NOT EXISTS Musicians (\n",
        "      name TEXT NOT NULL,\n",
        "      number INTEGER NOT NULL,\n",
        "      street_name TEXT NOT NULL,\n",
        "      street_type TEXT NOT NULL,\n",
        "      ssn TEXT PRIMARY KEY\n",
        "  )\n",
        "\"\"\")\n",
        "\n",
        "# Table for Instruments\n",
        "cur.execute(\"\"\"\n",
        "  CREATE TABLE IF NOT EXISTS Instruments (\n",
        "    instrument_id INTEGER PRIMARY KEY,\n",
        "    instrument_type TEXT,\n",
        "    key TEXT\n",
        ")\n",
        "\"\"\")\n",
        "\n",
        "# Table Albums\n",
        "cur.execute(\"\"\"\n",
        "  CREATE TABLE IF NOT EXISTS Albums (\n",
        "    album_id INTEGER PRIMARY KEY,\n",
        "    title TEXT,\n",
        "    copyright_date DATE,\n",
        "    album_type TEXT\n",
        ")\n",
        "\"\"\")\n"
      ]
    },
    {
      "cell_type": "code",
      "execution_count": 3,
      "metadata": {
        "colab": {
          "base_uri": "https://localhost:8080/"
        },
        "id": "3Fry8LriLWvg",
        "outputId": "a844f77a-6e64-487a-d39d-c8689feb3be7"
      },
      "outputs": [
        {
          "data": {
            "text/plain": [
              "<sqlite3.Cursor at 0x79dd0fb47040>"
            ]
          },
          "execution_count": 3,
          "metadata": {},
          "output_type": "execute_result"
        }
      ],
      "source": [
        "# album_musicians table for task 4\n",
        "cur.execute('''\n",
        "  CREATE TABLE album_musicians (\n",
        "    album_id TEXT,\n",
        "    ssn TEXT,\n",
        "    FOREIGN KEY(album_id) REFERENCES albums(album_id),\n",
        "    FOREIGN KEY(ssn) REFERENCES musicians(ssn),\n",
        "    PRIMARY KEY(album_id, ssn)\n",
        "  )''')\n",
        "\n"
      ]
    },
    {
      "cell_type": "markdown",
      "metadata": {
        "id": "1SZzgrUzIol1"
      },
      "source": [
        "Task 3"
      ]
    },
    {
      "cell_type": "code",
      "execution_count": 4,
      "metadata": {
        "id": "vNkznTbSvQet"
      },
      "outputs": [],
      "source": [
        "# Create SQLite database engine\n",
        "engine = create_engine('sqlite:///new_db.db')\n",
        "\n",
        "# Read data from CSV into a DataFrame\n",
        "data_df = pd.read_csv('cleaned_csv_file.csv')\n",
        "\n",
        "# Load each dataframe with desired values according to sql tables\n",
        "\n",
        "# Check if the DataFrame is empty\n",
        "if data_df.empty:\n",
        "    print(\"DataFrame is empty. Cannot extract columns.\")\n",
        "else:\n",
        "    # Verify the actual column names in the DataFrame\n",
        "    actual_column_names = data_df.columns\n",
        "    if not all(col in actual_column_names for col in ['name', 'num', 'street', 'street_type', 'ssn']):\n",
        "        print(\"Column names do not match the DataFrame.\")\n",
        "    else:\n",
        "        # Extract the desired columns\n",
        "        musicians_df = data_df[['name', 'num', 'street', 'street_type', 'ssn']]\n",
        "\n",
        "# print(musicians_df)\n",
        "\n",
        "# Check if the DataFrame is empty\n",
        "if data_df.empty:\n",
        "    print(\"DataFrame is empty. Cannot extract columns.\")\n",
        "else:\n",
        "    # Verify the actual column names in the DataFrame\n",
        "    actual_column_names = data_df.columns\n",
        "    if not all(col in actual_column_names for col in ['instrument_id', 'instrument_type', 'key']):\n",
        "        print(\"Column names do not match the DataFrame.\")\n",
        "    else:\n",
        "        # Extract the desired columns\n",
        "        instruments_df = data_df[['instrument_id', 'instrument_type', 'key']]\n",
        "\n",
        "# print(instruments_df)\n",
        "\n",
        "# Check if the DataFrame is empty\n",
        "if data_df.empty:\n",
        "    print(\"DataFrame is empty. Cannot extract columns.\")\n",
        "else:\n",
        "    # Verify the actual column names in the DataFrame\n",
        "    actual_column_names = data_df.columns\n",
        "    if not all(col in actual_column_names for col in ['album_id', 'title', 'date', 'album_type']):\n",
        "        print(\"Column names do not match the DataFrame.\")\n",
        "    else:\n",
        "        # Extract the desired columns\n",
        "        albums_df = data_df[['album_id', 'title', 'date', 'album_type']]\n",
        "\n",
        "# print(albums_df)\n",
        "\n",
        "# Dataframe for task 4\n",
        "# Check if the DataFrame is empty\n",
        "if data_df.empty:\n",
        "    print(\"DataFrame is empty. Cannot extract columns.\")\n",
        "else:\n",
        "    # Verify the actual column names in the DataFrame\n",
        "    actual_column_names = data_df.columns\n",
        "    if not all(col in actual_column_names for col in ['album_id', 'ssn']):\n",
        "        print(\"Column names do not match the DataFrame.\")\n",
        "    else:\n",
        "        # Extract the desired columns\n",
        "        album_musicians_df = data_df[['album_id', 'ssn',]]\n",
        "\n",
        "\n",
        "# print(album_musicians_df)\n"
      ]
    },
    {
      "cell_type": "markdown",
      "metadata": {
        "id": "4tty6ztdIKq4"
      },
      "source": [
        "Task 4: Summary"
      ]
    },
    {
      "cell_type": "code",
      "execution_count": 5,
      "metadata": {
        "colab": {
          "base_uri": "https://localhost:8080/"
        },
        "id": "L2obfr03ERYu",
        "outputId": "cb4ce3f0-4413-4d2a-ed2a-bbb4cf9d2ec5"
      },
      "outputs": [
        {
          "name": "stdout",
          "output_type": "stream",
          "text": [
            "Task 1:\n",
            "Total number of musicians: 370\n",
            "List of musicians:\n",
            "         name        ssn\n",
            "0     Antonio  100000000\n",
            "1     Antonio  100000000\n",
            "2     Antonio  100000000\n",
            "3     Antonio  100000000\n",
            "4     Antonio  100000000\n",
            "..        ...        ...\n",
            "365    Ariana  100000043\n",
            "366    Ariana  100000043\n",
            "367    Ariana  100000043\n",
            "368    Ariana  100000043\n",
            "369    Ariana  100000043\n",
            "\n",
            "[370 rows x 2 columns]\n",
            "\n",
            "Task 2:\n",
            "Total number of albums: 370\n",
            "List of albums:\n",
            "    title  album_id\n",
            "0       F         7\n",
            "1       X        21\n",
            "2       X        21\n",
            "3       X        21\n",
            "4       V        24\n",
            "..    ...       ...\n",
            "365     J        10\n",
            "366     J        10\n",
            "367     X        21\n",
            "368     X        21\n",
            "369     X        21\n",
            "\n",
            "[370 rows x 2 columns]\n",
            "\n",
            "Task 3:\n",
            "Total number of instruments: 370\n",
            "List of instruments:\n",
            "     instrument_id      key instrument_type\n",
            "0                9        C           flute\n",
            "1                5        B     synthesizer\n",
            "2                8   B-flat     synthesizer\n",
            "3                9        C           flute\n",
            "4                6        C     synthesizer\n",
            "..             ...      ...             ...\n",
            "365              8   B-flat     synthesizer\n",
            "366              9        C           flute\n",
            "367              5        B     synthesizer\n",
            "368              8   B-flat     synthesizer\n",
            "369              9        C           flute\n",
            "\n",
            "[370 rows x 3 columns]\n",
            "\n",
            "Task 4:\n",
            "Table of musicians and total albums written by them:\n",
            "           name  total_albums\n",
            "0       Antonio             5\n",
            "5          Abel             6\n",
            "11         Alex            10\n",
            "21      Tristan            12\n",
            "33       Graham            11\n",
            "44       Zayden            14\n",
            "58        Judah            11\n",
            "69          Ace             6\n",
            "75      Antonio             2\n",
            "77      Abraham            15\n",
            "92      Nicolas             2\n",
            "94      Antonio             3\n",
            "97      Charlie            10\n",
            "107     Patrick             6\n",
            "113      Walker             4\n",
            "117        Joel            16\n",
            "133      Olivia             6\n",
            "139        Emma            13\n",
            "152         Ava             3\n",
            "155   Charlotte            10\n",
            "165      Sophia             6\n",
            "171         Ava            12\n",
            "183    Isabella            13\n",
            "196         Mia            12\n",
            "208      Evelyn             2\n",
            "210      Harper             3\n",
            "213      Camila             3\n",
            "216      Gianna             6\n",
            "222         Ava            11\n",
            "233        Luna             9\n",
            "242        Ella             1\n",
            "243   Elizabeth            11\n",
            "254       Sofia            15\n",
            "269       Emily            14\n",
            "283       Avery             3\n",
            "286        Mila            12\n",
            "298     Antonio            12\n",
            "310     Eleanor            11\n",
            "321     Madison             5\n",
            "326       Layla             8\n",
            "334    Penelope             4\n",
            "338      Olivia             7\n",
            "345       Sadie            12\n",
            "357      Ariana            13\n",
            "\n",
            "Task 4.4:\n",
            "Table of per musician count. It will return a table consists of musician info count where musician info should be all the attributes you designed on task 2 to represent a musician\n",
            "           name   num        street street_type        ssn  total_albums\n",
            "0       Antonio  1000    University         Dr.  100000000             5\n",
            "5          Abel  1010    University         Dr.  100000001             6\n",
            "11         Alex  1020    University         Dr.  100000002            10\n",
            "21      Tristan  1030    University         Dr.  100000003            12\n",
            "33       Graham  1040    University         Dr.  100000004            11\n",
            "44       Zayden  1050    University         Dr.  100000005            14\n",
            "58        Judah  1060    University         Dr.  100000006            11\n",
            "69          Ace  1070    University         Dr.  100000007             6\n",
            "75      Antonio  1080    University         Dr.  100000008             2\n",
            "77      Abraham  1090    University         Dr.  100000009            15\n",
            "92      Nicolas  1100    University         Dr.  100000010             2\n",
            "94      Antonio  1110    University         Dr.  100000011             3\n",
            "97      Charlie  1120    University         Dr.  100000012            10\n",
            "107     Patrick  1130    University         Dr.  100000013             6\n",
            "113      Walker  1140    University         Dr.  100000014             4\n",
            "117        Joel  1150    University         Dr.  100000015            16\n",
            "133      Olivia  1160    University         Dr.  100000016             6\n",
            "139        Emma  1170    University         Dr.  100000017            13\n",
            "152         Ava  1180    University         Dr.  100000018             3\n",
            "155   Charlotte  1190    University         Dr.  100000019            10\n",
            "165      Sophia  1200    University         Dr.  100000020             6\n",
            "171         Ava  1210    University         Dr.  100000021            12\n",
            "183    Isabella  1000   North Sugar         Rd.  100000022            13\n",
            "196         Mia  1010   North Sugar         Rd.  100000023            12\n",
            "208      Evelyn  1020   North Sugar         Rd.  100000024             2\n",
            "210      Harper  1030   North Sugar         Rd.  100000025             3\n",
            "213      Camila  1040   North Sugar         Rd.  100000026             3\n",
            "216      Gianna  1050   North Sugar         Rd.  100000027             6\n",
            "222         Ava  1060   North Sugar         Rd.  100000028            11\n",
            "233        Luna  1070   North Sugar         Rd.  100000029             9\n",
            "242        Ella  1080   North Sugar         Rd.  100000030             1\n",
            "243   Elizabeth  1090   North Sugar         Rd.  100000031            11\n",
            "254       Sofia  1100   North Sugar         Rd.  100000032            15\n",
            "269       Emily  1110   North Sugar         Rd.  100000033            14\n",
            "283       Avery  1120   North Sugar         Rd.  100000034             3\n",
            "286        Mila  1130   North Sugar         Rd.  100000035            12\n",
            "298     Antonio  1140   North Sugar         Rd.  100000036            12\n",
            "310     Eleanor  1150   North Sugar         Rd.  100000037            11\n",
            "321     Madison  1160   North Sugar         Rd.  100000038             5\n",
            "326       Layla  1170   North Sugar         Rd.  100000039             8\n",
            "334    Penelope  1180   North Sugar         Rd.  100000040             4\n",
            "338      Olivia  1190   North Sugar         Rd.  100000041             7\n",
            "345       Sadie  1200   North Sugar         Rd.  100000042            12\n",
            "357      Ariana  1210   North Sugar         Rd.  100000043            13\n"
          ]
        }
      ],
      "source": [
        "# 1: Total number of musicians and list of musicians (name and ssn)\n",
        "total_musicians = len(musicians_df)\n",
        "\n",
        "# 2: Total number of albums and list of albums recorded at Notown (name and album id)\n",
        "total_albums = len(albums_df)\n",
        "\n",
        "# 3: Total number of instruments and list of instruments at Notown (name, key, and id)\n",
        "total_instruments = len(instruments_df)\n",
        "\n",
        "# 4: Table consisting of the names of musicians and the total number of albums written by them\n",
        "\n",
        "# Group album_musicians_df by SSN and count the number of albums for each musician\n",
        "albums_per_musician = album_musicians_df.groupby('ssn').size().reset_index(name='total_albums')\n",
        "\n",
        "# Merge with musicians_df to include musician names\n",
        "task4_df = pd.merge(musicians_df, albums_per_musician, on='ssn', how='left')\n",
        "\n",
        "# account for musicians with no albums\n",
        "task4_df['total_albums'].fillna(0, inplace=True)\n",
        "\n",
        "# Remove duplicates\n",
        "task4_df.drop_duplicates(inplace=True)\n",
        "\n",
        "\n",
        "# Print the results\n",
        "print(\"Task 1:\")\n",
        "print(\"Total number of musicians:\", total_musicians)\n",
        "print(\"List of musicians:\")\n",
        "print(musicians_df[['name', 'ssn']])\n",
        "\n",
        "print(\"\\nTask 2:\")\n",
        "print(\"Total number of albums:\", total_albums)\n",
        "print(\"List of albums:\")\n",
        "print(albums_df[['title', 'album_id']])\n",
        "\n",
        "print(\"\\nTask 3:\")\n",
        "print(\"Total number of instruments:\", total_instruments)\n",
        "print(\"List of instruments:\")\n",
        "print(instruments_df[['instrument_id', 'key', 'instrument_type']])\n",
        "\n",
        "print(\"\\nTask 4:\")\n",
        "print(\"Table of musicians and total albums written by them:\")\n",
        "print(task4_df[['name', 'total_albums']])\n",
        "\n",
        "print(\"\\nTask 4.4:\")\n",
        "print(\"Table of per musician count. It will return a table consists of musician info count where musician info should be all the attributes you designed on task 2 to represent a musician\")\n",
        "print(task4_df)\n"
      ]
    },
    {
      "cell_type": "code",
      "execution_count": 6,
      "metadata": {
        "id": "qH4_w-IgGjMZ"
      },
      "outputs": [],
      "source": [
        "con.commit()\n",
        "con.close()"
      ]
    }
  ],
  "metadata": {
    "colab": {
      "provenance": []
    },
    "kernelspec": {
      "display_name": "Python 3",
      "name": "python3"
    },
    "language_info": {
      "name": "python"
    }
  },
  "nbformat": 4,
  "nbformat_minor": 0
}
